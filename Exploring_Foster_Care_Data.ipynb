{
 "cells": [
  {
   "cell_type": "markdown",
   "metadata": {},
   "source": [
    "# Task 3- Custom Exploratory Data Project\n",
    " Exploring Data on Foster Care and Total population of Children\n",
    " #\n",
    " Author Name: Luci McDaniel\n",
    " #\n",
    " GitHub: https://github.com/LuciMcD\n",
    " #\n",
    " Date: 9/28/2023"
   ]
  },
  {
   "cell_type": "markdown",
   "metadata": {},
   "source": [
    "### Section 1- Load\n",
    "#### Reading from General_Population_of_Children.csv and Child_Welfare_Summarry.csv"
   ]
  },
  {
   "cell_type": "code",
   "execution_count": 158,
   "metadata": {},
   "outputs": [],
   "source": [
    "import pandas as pd\n",
    "genpop = pd.read_csv('General_Population_of_Children.csv')\n",
    "welfare = pd.read_csv('Child_Welfare_Summary.csv')"
   ]
  },
  {
   "cell_type": "markdown",
   "metadata": {},
   "source": [
    "### Section 2 - View: Displaying the first and last 5 rows of both the data files. \n",
    "##### Note: In the Child Welfare Summary data the foster care entry rate is a percentage. "
   ]
  },
  {
   "cell_type": "code",
   "execution_count": 159,
   "metadata": {},
   "outputs": [
    {
     "data": {
      "text/html": [
       "<div>\n",
       "<style scoped>\n",
       "    .dataframe tbody tr th:only-of-type {\n",
       "        vertical-align: middle;\n",
       "    }\n",
       "\n",
       "    .dataframe tbody tr th {\n",
       "        vertical-align: top;\n",
       "    }\n",
       "\n",
       "    .dataframe thead th {\n",
       "        text-align: right;\n",
       "    }\n",
       "</style>\n",
       "<table border=\"1\" class=\"dataframe\">\n",
       "  <thead>\n",
       "    <tr style=\"text-align: right;\">\n",
       "      <th></th>\n",
       "      <th>Year</th>\n",
       "      <th>Total children under 18 years</th>\n",
       "      <th>Alaska Native / American Indian(%)</th>\n",
       "      <th>Asian(%)</th>\n",
       "      <th>Black(%)</th>\n",
       "      <th>Native Hawaiian / Other Pacific Islander(%)</th>\n",
       "      <th>Hispanic (of any race)(%)</th>\n",
       "      <th>White(%)</th>\n",
       "      <th>Two or more races(%)</th>\n",
       "      <th>Child population in poverty (%)</th>\n",
       "    </tr>\n",
       "  </thead>\n",
       "  <tbody>\n",
       "    <tr>\n",
       "      <th>0</th>\n",
       "      <td>2017</td>\n",
       "      <td>1,383,946</td>\n",
       "      <td>0.40</td>\n",
       "      <td>2.00</td>\n",
       "      <td>13.50</td>\n",
       "      <td>0.20</td>\n",
       "      <td>6.80</td>\n",
       "      <td>72.70</td>\n",
       "      <td>4.50</td>\n",
       "      <td>18.60</td>\n",
       "    </tr>\n",
       "    <tr>\n",
       "      <th>1</th>\n",
       "      <td>2018</td>\n",
       "      <td>1,379,108</td>\n",
       "      <td>0.40</td>\n",
       "      <td>2.00</td>\n",
       "      <td>13.50</td>\n",
       "      <td>0.20</td>\n",
       "      <td>6.90</td>\n",
       "      <td>72.40</td>\n",
       "      <td>4.60</td>\n",
       "      <td>18.30</td>\n",
       "    </tr>\n",
       "    <tr>\n",
       "      <th>2</th>\n",
       "      <td>2019</td>\n",
       "      <td>1,374,703</td>\n",
       "      <td>0.40</td>\n",
       "      <td>2.10</td>\n",
       "      <td>13.50</td>\n",
       "      <td>0.20</td>\n",
       "      <td>7.10</td>\n",
       "      <td>72.10</td>\n",
       "      <td>4.70</td>\n",
       "      <td>17.10</td>\n",
       "    </tr>\n",
       "    <tr>\n",
       "      <th>3</th>\n",
       "      <td>2020</td>\n",
       "      <td>1,390,790</td>\n",
       "      <td>0.40</td>\n",
       "      <td>2.10</td>\n",
       "      <td>13.40</td>\n",
       "      <td>0.20</td>\n",
       "      <td>7.20</td>\n",
       "      <td>71.90</td>\n",
       "      <td>4.80</td>\n",
       "      <td>15.30</td>\n",
       "    </tr>\n",
       "    <tr>\n",
       "      <th>4</th>\n",
       "      <td>2021</td>\n",
       "      <td>1,384,557</td>\n",
       "      <td>0.40</td>\n",
       "      <td>2.10</td>\n",
       "      <td>13.40</td>\n",
       "      <td>0.20</td>\n",
       "      <td>7.30</td>\n",
       "      <td>71.70</td>\n",
       "      <td>4.90</td>\n",
       "      <td>16.20</td>\n",
       "    </tr>\n",
       "  </tbody>\n",
       "</table>\n",
       "</div>"
      ],
      "text/plain": [
       "   Year Total children under 18 years  Alaska Native / American Indian(%)  \\\n",
       "0  2017                     1,383,946                                0.40   \n",
       "1  2018                     1,379,108                                0.40   \n",
       "2  2019                     1,374,703                                0.40   \n",
       "3  2020                     1,390,790                                0.40   \n",
       "4  2021                     1,384,557                                0.40   \n",
       "\n",
       "   Asian(%)  Black(%)  Native Hawaiian / Other Pacific Islander(%)  \\\n",
       "0      2.00     13.50                                         0.20   \n",
       "1      2.00     13.50                                         0.20   \n",
       "2      2.10     13.50                                         0.20   \n",
       "3      2.10     13.40                                         0.20   \n",
       "4      2.10     13.40                                         0.20   \n",
       "\n",
       "   Hispanic (of any race)(%)  White(%)  Two or more races(%)  \\\n",
       "0                       6.80     72.70                  4.50   \n",
       "1                       6.90     72.40                  4.60   \n",
       "2                       7.10     72.10                  4.70   \n",
       "3                       7.20     71.90                  4.80   \n",
       "4                       7.30     71.70                  4.90   \n",
       "\n",
       "   Child population in poverty (%)  \n",
       "0                            18.60  \n",
       "1                            18.30  \n",
       "2                            17.10  \n",
       "3                            15.30  \n",
       "4                            16.20  "
      ]
     },
     "execution_count": 159,
     "metadata": {},
     "output_type": "execute_result"
    }
   ],
   "source": [
    "genpop.head()"
   ]
  },
  {
   "cell_type": "code",
   "execution_count": 160,
   "metadata": {},
   "outputs": [
    {
     "data": {
      "text/html": [
       "<div>\n",
       "<style scoped>\n",
       "    .dataframe tbody tr th:only-of-type {\n",
       "        vertical-align: middle;\n",
       "    }\n",
       "\n",
       "    .dataframe tbody tr th {\n",
       "        vertical-align: top;\n",
       "    }\n",
       "\n",
       "    .dataframe thead th {\n",
       "        text-align: right;\n",
       "    }\n",
       "</style>\n",
       "<table border=\"1\" class=\"dataframe\">\n",
       "  <thead>\n",
       "    <tr style=\"text-align: right;\">\n",
       "      <th></th>\n",
       "      <th>Year</th>\n",
       "      <th>Child maltreatment victims</th>\n",
       "      <th>Foster care entry rate</th>\n",
       "      <th>Children in foster care on 9/30</th>\n",
       "      <th>Children adopted</th>\n",
       "    </tr>\n",
       "  </thead>\n",
       "  <tbody>\n",
       "    <tr>\n",
       "      <th>0</th>\n",
       "      <td>2017</td>\n",
       "      <td>4,585</td>\n",
       "      <td>4.90</td>\n",
       "      <td>12,390</td>\n",
       "      <td>1,541</td>\n",
       "    </tr>\n",
       "    <tr>\n",
       "      <th>1</th>\n",
       "      <td>2018</td>\n",
       "      <td>5,662</td>\n",
       "      <td>5.00</td>\n",
       "      <td>12,659</td>\n",
       "      <td>1,798</td>\n",
       "    </tr>\n",
       "    <tr>\n",
       "      <th>2</th>\n",
       "      <td>2019</td>\n",
       "      <td>4,762</td>\n",
       "      <td>5.00</td>\n",
       "      <td>12,685</td>\n",
       "      <td>1,820</td>\n",
       "    </tr>\n",
       "    <tr>\n",
       "      <th>3</th>\n",
       "      <td>2020</td>\n",
       "      <td>4,449</td>\n",
       "      <td>4.70</td>\n",
       "      <td>12,650</td>\n",
       "      <td>1,652</td>\n",
       "    </tr>\n",
       "    <tr>\n",
       "      <th>4</th>\n",
       "      <td>2021</td>\n",
       "      <td>4,262</td>\n",
       "      <td>4.90</td>\n",
       "      <td>13,194</td>\n",
       "      <td>1,419</td>\n",
       "    </tr>\n",
       "  </tbody>\n",
       "</table>\n",
       "</div>"
      ],
      "text/plain": [
       "   Year Child maltreatment victims  Foster care entry rate  \\\n",
       "0  2017                      4,585                    4.90   \n",
       "1  2018                      5,662                    5.00   \n",
       "2  2019                      4,762                    5.00   \n",
       "3  2020                      4,449                    4.70   \n",
       "4  2021                      4,262                    4.90   \n",
       "\n",
       "  Children in foster care on 9/30 Children adopted  \n",
       "0                          12,390            1,541  \n",
       "1                          12,659            1,798  \n",
       "2                          12,685            1,820  \n",
       "3                          12,650            1,652  \n",
       "4                          13,194            1,419  "
      ]
     },
     "execution_count": 160,
     "metadata": {},
     "output_type": "execute_result"
    }
   ],
   "source": [
    "welfare.head()"
   ]
  },
  {
   "cell_type": "code",
   "execution_count": 161,
   "metadata": {},
   "outputs": [
    {
     "data": {
      "text/html": [
       "<div>\n",
       "<style scoped>\n",
       "    .dataframe tbody tr th:only-of-type {\n",
       "        vertical-align: middle;\n",
       "    }\n",
       "\n",
       "    .dataframe tbody tr th {\n",
       "        vertical-align: top;\n",
       "    }\n",
       "\n",
       "    .dataframe thead th {\n",
       "        text-align: right;\n",
       "    }\n",
       "</style>\n",
       "<table border=\"1\" class=\"dataframe\">\n",
       "  <thead>\n",
       "    <tr style=\"text-align: right;\">\n",
       "      <th></th>\n",
       "      <th>Year</th>\n",
       "      <th>Total children under 18 years</th>\n",
       "      <th>Alaska Native / American Indian(%)</th>\n",
       "      <th>Asian(%)</th>\n",
       "      <th>Black(%)</th>\n",
       "      <th>Native Hawaiian / Other Pacific Islander(%)</th>\n",
       "      <th>Hispanic (of any race)(%)</th>\n",
       "      <th>White(%)</th>\n",
       "      <th>Two or more races(%)</th>\n",
       "      <th>Child population in poverty (%)</th>\n",
       "    </tr>\n",
       "  </thead>\n",
       "  <tbody>\n",
       "    <tr>\n",
       "      <th>0</th>\n",
       "      <td>2017</td>\n",
       "      <td>1,383,946</td>\n",
       "      <td>0.40</td>\n",
       "      <td>2.00</td>\n",
       "      <td>13.50</td>\n",
       "      <td>0.20</td>\n",
       "      <td>6.80</td>\n",
       "      <td>72.70</td>\n",
       "      <td>4.50</td>\n",
       "      <td>18.60</td>\n",
       "    </tr>\n",
       "    <tr>\n",
       "      <th>1</th>\n",
       "      <td>2018</td>\n",
       "      <td>1,379,108</td>\n",
       "      <td>0.40</td>\n",
       "      <td>2.00</td>\n",
       "      <td>13.50</td>\n",
       "      <td>0.20</td>\n",
       "      <td>6.90</td>\n",
       "      <td>72.40</td>\n",
       "      <td>4.60</td>\n",
       "      <td>18.30</td>\n",
       "    </tr>\n",
       "    <tr>\n",
       "      <th>2</th>\n",
       "      <td>2019</td>\n",
       "      <td>1,374,703</td>\n",
       "      <td>0.40</td>\n",
       "      <td>2.10</td>\n",
       "      <td>13.50</td>\n",
       "      <td>0.20</td>\n",
       "      <td>7.10</td>\n",
       "      <td>72.10</td>\n",
       "      <td>4.70</td>\n",
       "      <td>17.10</td>\n",
       "    </tr>\n",
       "    <tr>\n",
       "      <th>3</th>\n",
       "      <td>2020</td>\n",
       "      <td>1,390,790</td>\n",
       "      <td>0.40</td>\n",
       "      <td>2.10</td>\n",
       "      <td>13.40</td>\n",
       "      <td>0.20</td>\n",
       "      <td>7.20</td>\n",
       "      <td>71.90</td>\n",
       "      <td>4.80</td>\n",
       "      <td>15.30</td>\n",
       "    </tr>\n",
       "    <tr>\n",
       "      <th>4</th>\n",
       "      <td>2021</td>\n",
       "      <td>1,384,557</td>\n",
       "      <td>0.40</td>\n",
       "      <td>2.10</td>\n",
       "      <td>13.40</td>\n",
       "      <td>0.20</td>\n",
       "      <td>7.30</td>\n",
       "      <td>71.70</td>\n",
       "      <td>4.90</td>\n",
       "      <td>16.20</td>\n",
       "    </tr>\n",
       "  </tbody>\n",
       "</table>\n",
       "</div>"
      ],
      "text/plain": [
       "   Year Total children under 18 years  Alaska Native / American Indian(%)  \\\n",
       "0  2017                     1,383,946                                0.40   \n",
       "1  2018                     1,379,108                                0.40   \n",
       "2  2019                     1,374,703                                0.40   \n",
       "3  2020                     1,390,790                                0.40   \n",
       "4  2021                     1,384,557                                0.40   \n",
       "\n",
       "   Asian(%)  Black(%)  Native Hawaiian / Other Pacific Islander(%)  \\\n",
       "0      2.00     13.50                                         0.20   \n",
       "1      2.00     13.50                                         0.20   \n",
       "2      2.10     13.50                                         0.20   \n",
       "3      2.10     13.40                                         0.20   \n",
       "4      2.10     13.40                                         0.20   \n",
       "\n",
       "   Hispanic (of any race)(%)  White(%)  Two or more races(%)  \\\n",
       "0                       6.80     72.70                  4.50   \n",
       "1                       6.90     72.40                  4.60   \n",
       "2                       7.10     72.10                  4.70   \n",
       "3                       7.20     71.90                  4.80   \n",
       "4                       7.30     71.70                  4.90   \n",
       "\n",
       "   Child population in poverty (%)  \n",
       "0                            18.60  \n",
       "1                            18.30  \n",
       "2                            17.10  \n",
       "3                            15.30  \n",
       "4                            16.20  "
      ]
     },
     "execution_count": 161,
     "metadata": {},
     "output_type": "execute_result"
    }
   ],
   "source": [
    "genpop.tail()"
   ]
  },
  {
   "cell_type": "code",
   "execution_count": 162,
   "metadata": {},
   "outputs": [
    {
     "data": {
      "text/html": [
       "<div>\n",
       "<style scoped>\n",
       "    .dataframe tbody tr th:only-of-type {\n",
       "        vertical-align: middle;\n",
       "    }\n",
       "\n",
       "    .dataframe tbody tr th {\n",
       "        vertical-align: top;\n",
       "    }\n",
       "\n",
       "    .dataframe thead th {\n",
       "        text-align: right;\n",
       "    }\n",
       "</style>\n",
       "<table border=\"1\" class=\"dataframe\">\n",
       "  <thead>\n",
       "    <tr style=\"text-align: right;\">\n",
       "      <th></th>\n",
       "      <th>Year</th>\n",
       "      <th>Child maltreatment victims</th>\n",
       "      <th>Foster care entry rate</th>\n",
       "      <th>Children in foster care on 9/30</th>\n",
       "      <th>Children adopted</th>\n",
       "    </tr>\n",
       "  </thead>\n",
       "  <tbody>\n",
       "    <tr>\n",
       "      <th>0</th>\n",
       "      <td>2017</td>\n",
       "      <td>4,585</td>\n",
       "      <td>4.90</td>\n",
       "      <td>12,390</td>\n",
       "      <td>1,541</td>\n",
       "    </tr>\n",
       "    <tr>\n",
       "      <th>1</th>\n",
       "      <td>2018</td>\n",
       "      <td>5,662</td>\n",
       "      <td>5.00</td>\n",
       "      <td>12,659</td>\n",
       "      <td>1,798</td>\n",
       "    </tr>\n",
       "    <tr>\n",
       "      <th>2</th>\n",
       "      <td>2019</td>\n",
       "      <td>4,762</td>\n",
       "      <td>5.00</td>\n",
       "      <td>12,685</td>\n",
       "      <td>1,820</td>\n",
       "    </tr>\n",
       "    <tr>\n",
       "      <th>3</th>\n",
       "      <td>2020</td>\n",
       "      <td>4,449</td>\n",
       "      <td>4.70</td>\n",
       "      <td>12,650</td>\n",
       "      <td>1,652</td>\n",
       "    </tr>\n",
       "    <tr>\n",
       "      <th>4</th>\n",
       "      <td>2021</td>\n",
       "      <td>4,262</td>\n",
       "      <td>4.90</td>\n",
       "      <td>13,194</td>\n",
       "      <td>1,419</td>\n",
       "    </tr>\n",
       "  </tbody>\n",
       "</table>\n",
       "</div>"
      ],
      "text/plain": [
       "   Year Child maltreatment victims  Foster care entry rate  \\\n",
       "0  2017                      4,585                    4.90   \n",
       "1  2018                      5,662                    5.00   \n",
       "2  2019                      4,762                    5.00   \n",
       "3  2020                      4,449                    4.70   \n",
       "4  2021                      4,262                    4.90   \n",
       "\n",
       "  Children in foster care on 9/30 Children adopted  \n",
       "0                          12,390            1,541  \n",
       "1                          12,659            1,798  \n",
       "2                          12,685            1,820  \n",
       "3                          12,650            1,652  \n",
       "4                          13,194            1,419  "
      ]
     },
     "execution_count": 162,
     "metadata": {},
     "output_type": "execute_result"
    }
   ],
   "source": [
    "welfare.tail()"
   ]
  },
  {
   "cell_type": "markdown",
   "metadata": {},
   "source": [
    "### Section 3 - Describe: Using the DataFrame describe() to calculate some basic statistics for all the numeric columns. "
   ]
  },
  {
   "cell_type": "markdown",
   "metadata": {},
   "source": [
    "Note: The below code is removing the \"\"(quotation marks) from the column \"Total children under 18 years\" so that the describe() function will read the numerical values. Without this, the describe() function reads the values as text. "
   ]
  },
  {
   "cell_type": "code",
   "execution_count": 163,
   "metadata": {},
   "outputs": [],
   "source": [
    "genpop['Total children under 18 years'] = genpop['Total children under 18 years'].str.replace(',', '').astype(float)"
   ]
  },
  {
   "cell_type": "markdown",
   "metadata": {},
   "source": [
    "*Below we are asking it to display the values with only 2 decimal places."
   ]
  },
  {
   "cell_type": "code",
   "execution_count": 164,
   "metadata": {},
   "outputs": [],
   "source": [
    "pd.options.display.float_format = '{:,.2f}'.format "
   ]
  },
  {
   "cell_type": "code",
   "execution_count": 165,
   "metadata": {},
   "outputs": [
    {
     "data": {
      "text/html": [
       "<div>\n",
       "<style scoped>\n",
       "    .dataframe tbody tr th:only-of-type {\n",
       "        vertical-align: middle;\n",
       "    }\n",
       "\n",
       "    .dataframe tbody tr th {\n",
       "        vertical-align: top;\n",
       "    }\n",
       "\n",
       "    .dataframe thead th {\n",
       "        text-align: right;\n",
       "    }\n",
       "</style>\n",
       "<table border=\"1\" class=\"dataframe\">\n",
       "  <thead>\n",
       "    <tr style=\"text-align: right;\">\n",
       "      <th></th>\n",
       "      <th>Year</th>\n",
       "      <th>Total children under 18 years</th>\n",
       "      <th>Alaska Native / American Indian(%)</th>\n",
       "      <th>Asian(%)</th>\n",
       "      <th>Black(%)</th>\n",
       "      <th>Native Hawaiian / Other Pacific Islander(%)</th>\n",
       "      <th>Hispanic (of any race)(%)</th>\n",
       "      <th>White(%)</th>\n",
       "      <th>Two or more races(%)</th>\n",
       "      <th>Child population in poverty (%)</th>\n",
       "    </tr>\n",
       "  </thead>\n",
       "  <tbody>\n",
       "    <tr>\n",
       "      <th>count</th>\n",
       "      <td>5.00</td>\n",
       "      <td>5.00</td>\n",
       "      <td>5.00</td>\n",
       "      <td>5.00</td>\n",
       "      <td>5.00</td>\n",
       "      <td>5.00</td>\n",
       "      <td>5.00</td>\n",
       "      <td>5.00</td>\n",
       "      <td>5.00</td>\n",
       "      <td>5.00</td>\n",
       "    </tr>\n",
       "    <tr>\n",
       "      <th>mean</th>\n",
       "      <td>2,019.00</td>\n",
       "      <td>1,382,620.80</td>\n",
       "      <td>0.40</td>\n",
       "      <td>2.06</td>\n",
       "      <td>13.46</td>\n",
       "      <td>0.20</td>\n",
       "      <td>7.06</td>\n",
       "      <td>72.16</td>\n",
       "      <td>4.70</td>\n",
       "      <td>17.10</td>\n",
       "    </tr>\n",
       "    <tr>\n",
       "      <th>std</th>\n",
       "      <td>1.58</td>\n",
       "      <td>6,067.79</td>\n",
       "      <td>0.00</td>\n",
       "      <td>0.05</td>\n",
       "      <td>0.05</td>\n",
       "      <td>0.00</td>\n",
       "      <td>0.21</td>\n",
       "      <td>0.40</td>\n",
       "      <td>0.16</td>\n",
       "      <td>1.39</td>\n",
       "    </tr>\n",
       "    <tr>\n",
       "      <th>min</th>\n",
       "      <td>2,017.00</td>\n",
       "      <td>1,374,703.00</td>\n",
       "      <td>0.40</td>\n",
       "      <td>2.00</td>\n",
       "      <td>13.40</td>\n",
       "      <td>0.20</td>\n",
       "      <td>6.80</td>\n",
       "      <td>71.70</td>\n",
       "      <td>4.50</td>\n",
       "      <td>15.30</td>\n",
       "    </tr>\n",
       "    <tr>\n",
       "      <th>25%</th>\n",
       "      <td>2,018.00</td>\n",
       "      <td>1,379,108.00</td>\n",
       "      <td>0.40</td>\n",
       "      <td>2.00</td>\n",
       "      <td>13.40</td>\n",
       "      <td>0.20</td>\n",
       "      <td>6.90</td>\n",
       "      <td>71.90</td>\n",
       "      <td>4.60</td>\n",
       "      <td>16.20</td>\n",
       "    </tr>\n",
       "    <tr>\n",
       "      <th>50%</th>\n",
       "      <td>2,019.00</td>\n",
       "      <td>1,383,946.00</td>\n",
       "      <td>0.40</td>\n",
       "      <td>2.10</td>\n",
       "      <td>13.50</td>\n",
       "      <td>0.20</td>\n",
       "      <td>7.10</td>\n",
       "      <td>72.10</td>\n",
       "      <td>4.70</td>\n",
       "      <td>17.10</td>\n",
       "    </tr>\n",
       "    <tr>\n",
       "      <th>75%</th>\n",
       "      <td>2,020.00</td>\n",
       "      <td>1,384,557.00</td>\n",
       "      <td>0.40</td>\n",
       "      <td>2.10</td>\n",
       "      <td>13.50</td>\n",
       "      <td>0.20</td>\n",
       "      <td>7.20</td>\n",
       "      <td>72.40</td>\n",
       "      <td>4.80</td>\n",
       "      <td>18.30</td>\n",
       "    </tr>\n",
       "    <tr>\n",
       "      <th>max</th>\n",
       "      <td>2,021.00</td>\n",
       "      <td>1,390,790.00</td>\n",
       "      <td>0.40</td>\n",
       "      <td>2.10</td>\n",
       "      <td>13.50</td>\n",
       "      <td>0.20</td>\n",
       "      <td>7.30</td>\n",
       "      <td>72.70</td>\n",
       "      <td>4.90</td>\n",
       "      <td>18.60</td>\n",
       "    </tr>\n",
       "  </tbody>\n",
       "</table>\n",
       "</div>"
      ],
      "text/plain": [
       "          Year  Total children under 18 years  \\\n",
       "count     5.00                           5.00   \n",
       "mean  2,019.00                   1,382,620.80   \n",
       "std       1.58                       6,067.79   \n",
       "min   2,017.00                   1,374,703.00   \n",
       "25%   2,018.00                   1,379,108.00   \n",
       "50%   2,019.00                   1,383,946.00   \n",
       "75%   2,020.00                   1,384,557.00   \n",
       "max   2,021.00                   1,390,790.00   \n",
       "\n",
       "       Alaska Native / American Indian(%)  Asian(%)  Black(%)  \\\n",
       "count                                5.00      5.00      5.00   \n",
       "mean                                 0.40      2.06     13.46   \n",
       "std                                  0.00      0.05      0.05   \n",
       "min                                  0.40      2.00     13.40   \n",
       "25%                                  0.40      2.00     13.40   \n",
       "50%                                  0.40      2.10     13.50   \n",
       "75%                                  0.40      2.10     13.50   \n",
       "max                                  0.40      2.10     13.50   \n",
       "\n",
       "       Native Hawaiian / Other Pacific Islander(%)  Hispanic (of any race)(%)  \\\n",
       "count                                         5.00                       5.00   \n",
       "mean                                          0.20                       7.06   \n",
       "std                                           0.00                       0.21   \n",
       "min                                           0.20                       6.80   \n",
       "25%                                           0.20                       6.90   \n",
       "50%                                           0.20                       7.10   \n",
       "75%                                           0.20                       7.20   \n",
       "max                                           0.20                       7.30   \n",
       "\n",
       "       White(%)  Two or more races(%)  Child population in poverty (%)  \n",
       "count      5.00                  5.00                             5.00  \n",
       "mean      72.16                  4.70                            17.10  \n",
       "std        0.40                  0.16                             1.39  \n",
       "min       71.70                  4.50                            15.30  \n",
       "25%       71.90                  4.60                            16.20  \n",
       "50%       72.10                  4.70                            17.10  \n",
       "75%       72.40                  4.80                            18.30  \n",
       "max       72.70                  4.90                            18.60  "
      ]
     },
     "execution_count": 165,
     "metadata": {},
     "output_type": "execute_result"
    }
   ],
   "source": [
    "genpop.describe()"
   ]
  },
  {
   "cell_type": "markdown",
   "metadata": {},
   "source": [
    "*Below we are using the same code for welfare that we did for genpop to remove \"\" so that describe() will read the numerical values."
   ]
  },
  {
   "cell_type": "code",
   "execution_count": 166,
   "metadata": {},
   "outputs": [],
   "source": [
    "welfare['Child maltreatment victims'] = welfare['Child maltreatment victims'].str.replace(',','').astype(float)\n",
    "welfare['Children in foster care on 9/30'] = welfare['Children in foster care on 9/30'].str.replace(',','').astype(float)\n",
    "welfare['Children adopted'] = welfare['Children adopted'].str.replace(',','').astype(float)"
   ]
  },
  {
   "cell_type": "code",
   "execution_count": 167,
   "metadata": {},
   "outputs": [
    {
     "data": {
      "text/html": [
       "<div>\n",
       "<style scoped>\n",
       "    .dataframe tbody tr th:only-of-type {\n",
       "        vertical-align: middle;\n",
       "    }\n",
       "\n",
       "    .dataframe tbody tr th {\n",
       "        vertical-align: top;\n",
       "    }\n",
       "\n",
       "    .dataframe thead th {\n",
       "        text-align: right;\n",
       "    }\n",
       "</style>\n",
       "<table border=\"1\" class=\"dataframe\">\n",
       "  <thead>\n",
       "    <tr style=\"text-align: right;\">\n",
       "      <th></th>\n",
       "      <th>Year</th>\n",
       "      <th>Child maltreatment victims</th>\n",
       "      <th>Foster care entry rate</th>\n",
       "      <th>Children in foster care on 9/30</th>\n",
       "      <th>Children adopted</th>\n",
       "    </tr>\n",
       "  </thead>\n",
       "  <tbody>\n",
       "    <tr>\n",
       "      <th>count</th>\n",
       "      <td>5.00</td>\n",
       "      <td>5.00</td>\n",
       "      <td>5.00</td>\n",
       "      <td>5.00</td>\n",
       "      <td>5.00</td>\n",
       "    </tr>\n",
       "    <tr>\n",
       "      <th>mean</th>\n",
       "      <td>2,019.00</td>\n",
       "      <td>4,744.00</td>\n",
       "      <td>4.90</td>\n",
       "      <td>12,715.60</td>\n",
       "      <td>1,646.00</td>\n",
       "    </tr>\n",
       "    <tr>\n",
       "      <th>std</th>\n",
       "      <td>1.58</td>\n",
       "      <td>544.90</td>\n",
       "      <td>0.12</td>\n",
       "      <td>292.97</td>\n",
       "      <td>170.27</td>\n",
       "    </tr>\n",
       "    <tr>\n",
       "      <th>min</th>\n",
       "      <td>2,017.00</td>\n",
       "      <td>4,262.00</td>\n",
       "      <td>4.70</td>\n",
       "      <td>12,390.00</td>\n",
       "      <td>1,419.00</td>\n",
       "    </tr>\n",
       "    <tr>\n",
       "      <th>25%</th>\n",
       "      <td>2,018.00</td>\n",
       "      <td>4,449.00</td>\n",
       "      <td>4.90</td>\n",
       "      <td>12,650.00</td>\n",
       "      <td>1,541.00</td>\n",
       "    </tr>\n",
       "    <tr>\n",
       "      <th>50%</th>\n",
       "      <td>2,019.00</td>\n",
       "      <td>4,585.00</td>\n",
       "      <td>4.90</td>\n",
       "      <td>12,659.00</td>\n",
       "      <td>1,652.00</td>\n",
       "    </tr>\n",
       "    <tr>\n",
       "      <th>75%</th>\n",
       "      <td>2,020.00</td>\n",
       "      <td>4,762.00</td>\n",
       "      <td>5.00</td>\n",
       "      <td>12,685.00</td>\n",
       "      <td>1,798.00</td>\n",
       "    </tr>\n",
       "    <tr>\n",
       "      <th>max</th>\n",
       "      <td>2,021.00</td>\n",
       "      <td>5,662.00</td>\n",
       "      <td>5.00</td>\n",
       "      <td>13,194.00</td>\n",
       "      <td>1,820.00</td>\n",
       "    </tr>\n",
       "  </tbody>\n",
       "</table>\n",
       "</div>"
      ],
      "text/plain": [
       "          Year  Child maltreatment victims  Foster care entry rate  \\\n",
       "count     5.00                        5.00                    5.00   \n",
       "mean  2,019.00                    4,744.00                    4.90   \n",
       "std       1.58                      544.90                    0.12   \n",
       "min   2,017.00                    4,262.00                    4.70   \n",
       "25%   2,018.00                    4,449.00                    4.90   \n",
       "50%   2,019.00                    4,585.00                    4.90   \n",
       "75%   2,020.00                    4,762.00                    5.00   \n",
       "max   2,021.00                    5,662.00                    5.00   \n",
       "\n",
       "       Children in foster care on 9/30  Children adopted  \n",
       "count                             5.00              5.00  \n",
       "mean                         12,715.60          1,646.00  \n",
       "std                             292.97            170.27  \n",
       "min                          12,390.00          1,419.00  \n",
       "25%                          12,650.00          1,541.00  \n",
       "50%                          12,659.00          1,652.00  \n",
       "75%                          12,685.00          1,798.00  \n",
       "max                          13,194.00          1,820.00  "
      ]
     },
     "execution_count": 167,
     "metadata": {},
     "output_type": "execute_result"
    }
   ],
   "source": [
    "welfare.describe()"
   ]
  },
  {
   "cell_type": "markdown",
   "metadata": {},
   "source": [
    "### Section 4 - Series: Use the Series method describe() to calculate the descriptive stats for all category/text columns.\n",
    "Note: The .csv files I selected do not have columns with category/text. The below are just examples of how the Series method describe() works. "
   ]
  },
  {
   "cell_type": "code",
   "execution_count": 168,
   "metadata": {},
   "outputs": [
    {
     "data": {
      "text/plain": [
       "count           6\n",
       "unique          4\n",
       "top       Alabama\n",
       "freq            3\n",
       "dtype: object"
      ]
     },
     "execution_count": 168,
     "metadata": {},
     "output_type": "execute_result"
    }
   ],
   "source": [
    "data = ['Alabama', 'Arkansas', 'Alabama', 'Missouri', 'Kansas', 'Alabama']\n",
    "datadescribed = pd.Series(data)\n",
    "datadescribed.describe()"
   ]
  },
  {
   "cell_type": "markdown",
   "metadata": {},
   "source": [
    "### Section 5 - Unique: Use the Series method unique() to get unique category values. \n",
    "The code will output a list of values that are unique in the respective columns."
   ]
  },
  {
   "cell_type": "code",
   "execution_count": 169,
   "metadata": {},
   "outputs": [
    {
     "data": {
      "text/plain": [
       "array([2017, 2018, 2019, 2020, 2021], dtype=int64)"
      ]
     },
     "execution_count": 169,
     "metadata": {},
     "output_type": "execute_result"
    }
   ],
   "source": [
    "genpop[\"Year\"].unique()"
   ]
  },
  {
   "cell_type": "code",
   "execution_count": 170,
   "metadata": {},
   "outputs": [
    {
     "data": {
      "text/plain": [
       "array([1383946., 1379108., 1374703., 1390790., 1384557.])"
      ]
     },
     "execution_count": 170,
     "metadata": {},
     "output_type": "execute_result"
    }
   ],
   "source": [
    "genpop[\"Total children under 18 years\"].unique()"
   ]
  },
  {
   "cell_type": "code",
   "execution_count": 171,
   "metadata": {},
   "outputs": [
    {
     "data": {
      "text/plain": [
       "array([0.4])"
      ]
     },
     "execution_count": 171,
     "metadata": {},
     "output_type": "execute_result"
    }
   ],
   "source": [
    "genpop[\"Alaska Native / American Indian(%)\"].unique()"
   ]
  },
  {
   "cell_type": "code",
   "execution_count": 172,
   "metadata": {},
   "outputs": [
    {
     "data": {
      "text/plain": [
       "array([2. , 2.1])"
      ]
     },
     "execution_count": 172,
     "metadata": {},
     "output_type": "execute_result"
    }
   ],
   "source": [
    "genpop[\"Asian(%)\"].unique()"
   ]
  },
  {
   "cell_type": "code",
   "execution_count": 173,
   "metadata": {},
   "outputs": [
    {
     "data": {
      "text/plain": [
       "array([13.5, 13.4])"
      ]
     },
     "execution_count": 173,
     "metadata": {},
     "output_type": "execute_result"
    }
   ],
   "source": [
    "genpop[\"Black(%)\"].unique()"
   ]
  },
  {
   "cell_type": "code",
   "execution_count": 174,
   "metadata": {},
   "outputs": [
    {
     "data": {
      "text/plain": [
       "array([0.2])"
      ]
     },
     "execution_count": 174,
     "metadata": {},
     "output_type": "execute_result"
    }
   ],
   "source": [
    "genpop[\"Native Hawaiian / Other Pacific Islander(%)\"].unique()"
   ]
  },
  {
   "cell_type": "code",
   "execution_count": 175,
   "metadata": {},
   "outputs": [
    {
     "data": {
      "text/plain": [
       "array([6.8, 6.9, 7.1, 7.2, 7.3])"
      ]
     },
     "execution_count": 175,
     "metadata": {},
     "output_type": "execute_result"
    }
   ],
   "source": [
    "genpop[\"Hispanic (of any race)(%)\"].unique()"
   ]
  },
  {
   "cell_type": "code",
   "execution_count": 176,
   "metadata": {},
   "outputs": [
    {
     "data": {
      "text/plain": [
       "array([72.7, 72.4, 72.1, 71.9, 71.7])"
      ]
     },
     "execution_count": 176,
     "metadata": {},
     "output_type": "execute_result"
    }
   ],
   "source": [
    "genpop[\"White(%)\"].unique()"
   ]
  },
  {
   "cell_type": "code",
   "execution_count": 177,
   "metadata": {},
   "outputs": [
    {
     "data": {
      "text/plain": [
       "array([4.5, 4.6, 4.7, 4.8, 4.9])"
      ]
     },
     "execution_count": 177,
     "metadata": {},
     "output_type": "execute_result"
    }
   ],
   "source": [
    "genpop[\"Two or more races(%)\"].unique()"
   ]
  },
  {
   "cell_type": "code",
   "execution_count": 178,
   "metadata": {},
   "outputs": [
    {
     "data": {
      "text/plain": [
       "array([18.6, 18.3, 17.1, 15.3, 16.2])"
      ]
     },
     "execution_count": 178,
     "metadata": {},
     "output_type": "execute_result"
    }
   ],
   "source": [
    "genpop[\"Child population in poverty (%)\"].unique()"
   ]
  },
  {
   "cell_type": "code",
   "execution_count": 179,
   "metadata": {},
   "outputs": [
    {
     "data": {
      "text/plain": [
       "array([2017, 2018, 2019, 2020, 2021], dtype=int64)"
      ]
     },
     "execution_count": 179,
     "metadata": {},
     "output_type": "execute_result"
    }
   ],
   "source": [
    "welfare[\"Year\"].unique()"
   ]
  },
  {
   "cell_type": "code",
   "execution_count": 180,
   "metadata": {},
   "outputs": [
    {
     "data": {
      "text/plain": [
       "array([4585., 5662., 4762., 4449., 4262.])"
      ]
     },
     "execution_count": 180,
     "metadata": {},
     "output_type": "execute_result"
    }
   ],
   "source": [
    "welfare[\"Child maltreatment victims\"].unique()"
   ]
  },
  {
   "cell_type": "code",
   "execution_count": 181,
   "metadata": {},
   "outputs": [
    {
     "data": {
      "text/plain": [
       "array([4.9, 5. , 4.7])"
      ]
     },
     "execution_count": 181,
     "metadata": {},
     "output_type": "execute_result"
    }
   ],
   "source": [
    "welfare[\"Foster care entry rate\"].unique()"
   ]
  },
  {
   "cell_type": "code",
   "execution_count": 182,
   "metadata": {},
   "outputs": [
    {
     "data": {
      "text/plain": [
       "array([12390., 12659., 12685., 12650., 13194.])"
      ]
     },
     "execution_count": 182,
     "metadata": {},
     "output_type": "execute_result"
    }
   ],
   "source": [
    "welfare[\"Children in foster care on 9/30\"].unique()"
   ]
  },
  {
   "cell_type": "code",
   "execution_count": 183,
   "metadata": {},
   "outputs": [
    {
     "data": {
      "text/plain": [
       "array([1541., 1798., 1820., 1652., 1419.])"
      ]
     },
     "execution_count": 183,
     "metadata": {},
     "output_type": "execute_result"
    }
   ],
   "source": [
    "welfare[\"Children adopted\"].unique()"
   ]
  },
  {
   "cell_type": "markdown",
   "metadata": {},
   "source": [
    "### Section 6 - Histograms: Use the DataFrame's hist() function to create a histogram for each numerical column"
   ]
  },
  {
   "cell_type": "code",
   "execution_count": 184,
   "metadata": {},
   "outputs": [
    {
     "data": {
      "text/plain": [
       "array([[<Axes: title={'center': 'Total children under 18 years'}>]],\n",
       "      dtype=object)"
      ]
     },
     "execution_count": 184,
     "metadata": {},
     "output_type": "execute_result"
    },
    {
     "data": {
      "image/png": "[encoded data removed]",
      "text/plain": [
       "<Figure size 640x480 with 1 Axes>"
      ]
     },
     "metadata": {},
     "output_type": "display_data"
    }
   ],
   "source": [
    "genpop.hist('Total children under 18 years')"
   ]
  },
  {
   "cell_type": "code",
   "execution_count": 185,
   "metadata": {},
   "outputs": [
    {
     "data": {
      "text/plain": [
       "array([[<Axes: title={'center': 'Alaska Native / American Indian(%)'}>]],\n",
       "      dtype=object)"
      ]
     },
     "execution_count": 185,
     "metadata": {},
     "output_type": "execute_result"
    },
    {
     "data": {
      "image/png": "[encoded data removed]",
      "text/plain": [
       "<Figure size 640x480 with 1 Axes>"
      ]
     },
     "metadata": {},
     "output_type": "display_data"
    }
   ],
   "source": [
    "genpop.hist('Alaska Native / American Indian(%)')"
   ]
  },
  {
   "cell_type": "code",
   "execution_count": 186,
   "metadata": {},
   "outputs": [
    {
     "data": {
      "text/plain": [
       "array([[<Axes: title={'center': 'Asian(%)'}>]], dtype=object)"
      ]
     },
     "execution_count": 186,
     "metadata": {},
     "output_type": "execute_result"
    },
    {
     "data": {
      "image/png": "[encoded data removed]",
      "text/plain": [
       "<Figure size 640x480 with 1 Axes>"
      ]
     },
     "metadata": {},
     "output_type": "display_data"
    }
   ],
   "source": [
    "genpop.hist('Asian(%)')"
   ]
  },
  {
   "cell_type": "code",
   "execution_count": 187,
   "metadata": {},
   "outputs": [
    {
     "data": {
      "text/plain": [
       "array([[<Axes: title={'center': 'Black(%)'}>]], dtype=object)"
      ]
     },
     "execution_count": 187,
     "metadata": {},
     "output_type": "execute_result"
    },
    {
     "data": {
      "image/png": "[encoded data removed]",
      "text/plain": [
       "<Figure size 640x480 with 1 Axes>"
      ]
     },
     "metadata": {},
     "output_type": "display_data"
    }
   ],
   "source": [
    "genpop.hist('Black(%)')"
   ]
  },
  {
   "cell_type": "code",
   "execution_count": 188,
   "metadata": {},
   "outputs": [
    {
     "data": {
      "text/plain": [
       "array([[<Axes: title={'center': 'Native Hawaiian / Other Pacific Islander(%)'}>]],\n",
       "      dtype=object)"
      ]
     },
     "execution_count": 188,
     "metadata": {},
     "output_type": "execute_result"
    },
    {
     "data": {
      "image/png": "[encoded data removed]",
      "text/plain": [
       "<Figure size 640x480 with 1 Axes>"
      ]
     },
     "metadata": {},
     "output_type": "display_data"
    }
   ],
   "source": [
    "genpop.hist('Native Hawaiian / Other Pacific Islander(%)')"
   ]
  },
  {
   "cell_type": "code",
   "execution_count": 189,
   "metadata": {},
   "outputs": [
    {
     "data": {
      "text/plain": [
       "array([[<Axes: title={'center': 'Hispanic (of any race)(%)'}>]],\n",
       "      dtype=object)"
      ]
     },
     "execution_count": 189,
     "metadata": {},
     "output_type": "execute_result"
    },
    {
     "data": {
      "image/png": "[encoded data removed]",
      "text/plain": [
       "<Figure size 640x480 with 1 Axes>"
      ]
     },
     "metadata": {},
     "output_type": "display_data"
    }
   ],
   "source": [
    "genpop.hist('Hispanic (of any race)(%)')"
   ]
  },
  {
   "cell_type": "code",
   "execution_count": 190,
   "metadata": {},
   "outputs": [
    {
     "data": {
      "text/plain": [
       "array([[<Axes: title={'center': 'White(%)'}>]], dtype=object)"
      ]
     },
     "execution_count": 190,
     "metadata": {},
     "output_type": "execute_result"
    },
    {
     "data": {
      "image/png": "[encoded data removed]",
      "text/plain": [
       "<Figure size 640x480 with 1 Axes>"
      ]
     },
     "metadata": {},
     "output_type": "display_data"
    }
   ],
   "source": [
    "genpop.hist('White(%)')"
   ]
  },
  {
   "cell_type": "code",
   "execution_count": 191,
   "metadata": {},
   "outputs": [
    {
     "data": {
      "text/plain": [
       "array([[<Axes: title={'center': 'Two or more races(%)'}>]], dtype=object)"
      ]
     },
     "execution_count": 191,
     "metadata": {},
     "output_type": "execute_result"
    },
    {
     "data": {
      "image/png": "[encoded data removed]",
      "text/plain": [
       "<Figure size 640x480 with 1 Axes>"
      ]
     },
     "metadata": {},
     "output_type": "display_data"
    }
   ],
   "source": [
    "genpop.hist('Two or more races(%)')"
   ]
  },
  {
   "cell_type": "code",
   "execution_count": 193,
   "metadata": {},
   "outputs": [
    {
     "data": {
      "text/plain": [
       "array([[<Axes: title={'center': 'Child population in poverty (%)'}>]],\n",
       "      dtype=object)"
      ]
     },
     "execution_count": 193,
     "metadata": {},
     "output_type": "execute_result"
    },
    {
     "data": {
      "image/png": "[encoded data removed]",
      "text/plain": [
       "<Figure size 640x480 with 1 Axes>"
      ]
     },
     "metadata": {},
     "output_type": "display_data"
    }
   ],
   "source": [
    "genpop.hist('Child population in poverty (%)')"
   ]
  },
  {
   "cell_type": "code",
   "execution_count": 194,
   "metadata": {},
   "outputs": [
    {
     "data": {
      "text/plain": [
       "array([[<Axes: title={'center': 'Child maltreatment victims'}>]],\n",
       "      dtype=object)"
      ]
     },
     "execution_count": 194,
     "metadata": {},
     "output_type": "execute_result"
    },
    {
     "data": {
      "image/png": "[encoded data removed]",
      "text/plain": [
       "<Figure size 640x480 with 1 Axes>"
      ]
     },
     "metadata": {},
     "output_type": "display_data"
    }
   ],
   "source": [
    "welfare.hist('Child maltreatment victims')"
   ]
  },
  {
   "cell_type": "code",
   "execution_count": 195,
   "metadata": {},
   "outputs": [
    {
     "data": {
      "text/plain": [
       "array([[<Axes: title={'center': 'Foster care entry rate'}>]], dtype=object)"
      ]
     },
     "execution_count": 195,
     "metadata": {},
     "output_type": "execute_result"
    },
    {
     "data": {
      "image/png": "[encoded data removed]",
      "text/plain": [
       "<Figure size 640x480 with 1 Axes>"
      ]
     },
     "metadata": {},
     "output_type": "display_data"
    }
   ],
   "source": [
    "welfare.hist('Foster care entry rate')"
   ]
  },
  {
   "cell_type": "code",
   "execution_count": 196,
   "metadata": {},
   "outputs": [
    {
     "data": {
      "text/plain": [
       "array([[<Axes: title={'center': 'Children in foster care on 9/30'}>]],\n",
       "      dtype=object)"
      ]
     },
     "execution_count": 196,
     "metadata": {},
     "output_type": "execute_result"
    },
    {
     "data": {
      "image/png": "[encoded data removed]",
      "text/plain": [
       "<Figure size 640x480 with 1 Axes>"
      ]
     },
     "metadata": {},
     "output_type": "display_data"
    }
   ],
   "source": [
    "welfare.hist('Children in foster care on 9/30')"
   ]
  },
  {
   "cell_type": "code",
   "execution_count": 197,
   "metadata": {},
   "outputs": [
    {
     "data": {
      "text/plain": [
       "array([[<Axes: title={'center': 'Children adopted'}>]], dtype=object)"
      ]
     },
     "execution_count": 197,
     "metadata": {},
     "output_type": "execute_result"
    },
    {
     "data": {
      "image/png": "[encoded data removed]",
      "text/plain": [
       "<Figure size 640x480 with 1 Axes>"
      ]
     },
     "metadata": {},
     "output_type": "display_data"
    }
   ],
   "source": [
    "welfare.hist('Children adopted')"
   ]
  },
  {
   "cell_type": "markdown",
   "metadata": {},
   "source": [
    "### Section 7 - List: Get some of your information into a list. Process each item in the list (use for or comprehensions as you like)"
   ]
  },
  {
   "cell_type": "code",
   "execution_count": 216,
   "metadata": {},
   "outputs": [
    {
     "name": "stdout",
     "output_type": "stream",
     "text": [
      "4.9\n",
      "5.0\n",
      "5.0\n",
      "4.7\n",
      "4.9\n"
     ]
    }
   ],
   "source": [
    "entry_rate = welfare['Foster care entry rate']\n",
    "for entry_rat in entry_rate:\n",
    "    print(entry_rat)\n"
   ]
  },
  {
   "cell_type": "code",
   "execution_count": 217,
   "metadata": {},
   "outputs": [
    {
     "name": "stdout",
     "output_type": "stream",
     "text": [
      "4.9%\n",
      "5.0%\n",
      "5.0%\n",
      "4.7%\n",
      "4.9%\n"
     ]
    },
    {
     "data": {
      "text/plain": [
       "[None, None, None, None, None]"
      ]
     },
     "execution_count": 217,
     "metadata": {},
     "output_type": "execute_result"
    }
   ],
   "source": [
    "[print(str(entry_rat) + \"%\") for entry_rat in entry_rate]"
   ]
  },
  {
   "cell_type": "markdown",
   "metadata": {},
   "source": [
    "### Section 8 - Filter: Use filter() to show only part of the information.\n",
    "*Below we are only listing values in the entry_rate list that are less than 5.00"
   ]
  },
  {
   "cell_type": "code",
   "execution_count": 208,
   "metadata": {},
   "outputs": [
    {
     "data": {
      "text/plain": [
       "[4.9, 4.7, 4.9]"
      ]
     },
     "execution_count": 208,
     "metadata": {},
     "output_type": "execute_result"
    }
   ],
   "source": [
    "list(filter(lambda x: x < 5.00, entry_rate))"
   ]
  },
  {
   "cell_type": "markdown",
   "metadata": {},
   "source": [
    "### Section 9 - Map: Use map() to transform some of the data. \n",
    "*Below we use the map() function to multipy each value in the entry_rate by 10. "
   ]
  },
  {
   "cell_type": "code",
   "execution_count": 210,
   "metadata": {},
   "outputs": [
    {
     "data": {
      "text/plain": [
       "[49.0, 50.0, 50.0, 47.0, 49.0]"
      ]
     },
     "execution_count": 210,
     "metadata": {},
     "output_type": "execute_result"
    }
   ],
   "source": [
    "list(map(lambda x: x*10, entry_rate))"
   ]
  }
 ],
 "metadata": {
  "kernelspec": {
   "display_name": ".venv",
   "language": "python",
   "name": "python3"
  },
  "language_info": {
   "codemirror_mode": {
    "name": "ipython",
    "version": 3
   },
   "file_extension": ".py",
   "mimetype": "text/x-python",
   "name": "python",
   "nbconvert_exporter": "python",
   "pygments_lexer": "ipython3",
   "version": "3.11.4"
  },
  "orig_nbformat": 4
 },
 "nbformat": 4,
 "nbformat_minor": 2
}
